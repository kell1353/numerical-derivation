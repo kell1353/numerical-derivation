{
 "cells": [
  {
   "cell_type": "markdown",
   "metadata": {},
   "source": [
    "# Analyzing results"
   ]
  },
  {
   "cell_type": "markdown",
   "metadata": {},
   "source": [
    "You will use python and this jupyter notebook to plot and analyze the results obtained from the\n",
    "fortran source code."
   ]
  },
  {
   "cell_type": "markdown",
   "metadata": {},
   "source": [
    "## Plotting results\n",
    "\n",
    "For this we will use the `numpy` and `matplotlib.pyplot` packages"
   ]
  },
  {
   "cell_type": "code",
   "execution_count": null,
   "metadata": {},
   "outputs": [],
   "source": [
    "# Importing numpy and matplotlib\n",
    "import numpy as np \n",
    "import matplotlib.pyplot as plt\n",
    "# different styles are predefined that give different appearance to the plots.\n",
    "# This one emulates the style of the figures you'll find on statisical \n",
    "# analysis news site fivethirtyeight.com\n",
    "plt.style.use('fivethirtyeight')"
   ]
  },
  {
   "cell_type": "code",
   "execution_count": null,
   "metadata": {},
   "outputs": [],
   "source": [
    "# reading data stored in results.dat\n",
    "\n",
    "file_name = 'results.dat'\n",
    "\n",
    "# np.loadtxt reads all the data in a file and stores them in an array (assuming it's all floats)\n",
    "# we use skiprows=1 to avoid the header\n",
    "# unpack=True transposes the array in order to be able to extract each column individually \n",
    "all_data = np.loadtxt(file_name, skiprows=1, unpack=True)\n",
    "\n",
    "h_step = all_data[0]\n",
    "analytic = all_data[1]\n",
    "three_point = all_data[2]\n",
    "five_point = all_data[3]\n",
    "# Each one of these is a numpy array that contains one of the columns in the results.dat file.\n",
    "# This will allows us to make operations on the extracted data"
   ]
  },
  {
   "cell_type": "markdown",
   "metadata": {},
   "source": [
    "### Plotting the derivatives first"
   ]
  },
  {
   "cell_type": "code",
   "execution_count": null,
   "metadata": {},
   "outputs": [],
   "source": [
    "# The plot function can take two equally sized arrays,\n",
    "# taking the first one as the x coordinates and the second one as the y coordinates\n",
    "plt.plot(h_step, three_point, label='3 Points Numerical')\n",
    "plt.plot(h_step, five_point, label='5 Points Numerical')\n",
    "plt.plot(h_step, analytic, label='Analytic')\n",
    "plt.xlabel('step size h')\n",
    "# Strings can take LaTeX syntaxis and interpret it correctly by putting an 'r' right before it\n",
    "plt.ylabel(r'$f´´(x_0)$')\n",
    "# legend displays the labels given in each plot\n",
    "plt.legend()\n",
    "plt.show()"
   ]
  },
  {
   "cell_type": "markdown",
   "metadata": {},
   "source": [
    "If you implemented the 5 points formula in you fortran code and uncommented the appropriate lines here you should be able to compare both approximations in this plot"
   ]
  },
  {
   "cell_type": "markdown",
   "metadata": {},
   "source": [
    "### Plotting the errors\n",
    "Now we will plot the error of the numerical formulas"
   ]
  },
  {
   "cell_type": "code",
   "execution_count": null,
   "metadata": {},
   "outputs": [],
   "source": [
    "# Operations between arrays of the same size are applied element-wise\n",
    "three_point_error = np.absolute(analytic - three_point)\n",
    "five_point_error = np.absolute(analytic - five_point)"
   ]
  },
  {
   "cell_type": "code",
   "execution_count": null,
   "metadata": {},
   "outputs": [],
   "source": [
    "plt.plot(h_step, three_point_error, label='3 Points')\n",
    "plt.plot(h_step, five_point_error, label='5 Points')\n",
    "plt.xlabel('step size h')\n",
    "plt.ylabel(r'$f´´_{\\rm exact}(x_0) - f´´_{\\rm num}(x_0)$')\n",
    "plt.legend()\n",
    "plt.show()"
   ]
  },
  {
   "cell_type": "markdown",
   "metadata": {},
   "source": [
    "All we did was shift everything down to the $y=0$ axis. We're not getting much information out of it.\n",
    "\n",
    "We expect the error $\\Delta f''$ to go as a power of the step size $h$. \n",
    "\n",
    "$$ \\Delta f'' = A h^n, $$\n",
    "\n",
    "were $A$ is just some constant. Taking a logarithm on both sides of the equation results in\n",
    "\n",
    "$$ \\log(\\Delta f'') = \\log(A h^n) = \\log(h^n) + \\log(A) = n \\log(h) + C,$$\n",
    "\n",
    "where $C$ is just a constant renaming $\\log(A)$. Therefore a log-log plot of the error should show a straight line. Let's see if that's the case"
   ]
  },
  {
   "cell_type": "code",
   "execution_count": null,
   "metadata": {},
   "outputs": [],
   "source": [
    "# For plotting we don't need to apply the log function ourselves; loglog takes care of that.\n",
    "plt.loglog(h_step, three_point_error, label='3 Points')\n",
    "plt.loglog(h_step, five_point_error, label='5 Points')\n",
    "plt.xlabel('step size h')\n",
    "plt.ylabel(r'$f´´_{\\rm exact}(x_0) - f´´_{\\rm num}(x_0)$')\n",
    "plt.legend()\n",
    "plt.show()"
   ]
  },
  {
   "cell_type": "markdown",
   "metadata": {},
   "source": [
    "If you selected the right range for $h$ in your fortran code you should get straight lines in your log plot, but is the slope the correct one? Based on the lectures the error goes as $h^2$ for the 3 points formula and as $h^4$ for the five points formula. Therefore, the slopes should be 2 and 4. Tha can be verified with a simple linear regression"
   ]
  },
  {
   "cell_type": "markdown",
   "metadata": {},
   "source": [
    "## Analyzing the data\n",
    "\n",
    "There's several implementations of linear regression in python. We will use `linregress` from `scipy.stats`. You should check the [documentation](https://docs.scipy.org/doc/scipy/reference/generated/scipy.stats.linregress.html)"
   ]
  },
  {
   "cell_type": "code",
   "execution_count": null,
   "metadata": {},
   "outputs": [],
   "source": [
    "# Importing only the stats package\n",
    "from scipy import stats"
   ]
  },
  {
   "cell_type": "code",
   "execution_count": null,
   "metadata": {},
   "outputs": [],
   "source": [
    "# First we need to apply the log function to our data\n",
    "log_h_step = np.log(h_step)\n",
    "log_three_point_error = np.log(three_point_error)\n",
    "log_five_point_error = np.log(five_point_error)\n",
    "\n",
    "# I'll leave the rest of the implementation for you to do based on the documentation of stats.linregress \n",
    "# The example on the documentation should make it pretty clear how to extract the slope"
   ]
  },
  {
   "cell_type": "code",
   "execution_count": null,
   "metadata": {},
   "outputs": [],
   "source": [
    "# Calculating the slope for the log_h_step and log_three_point_error\n",
    "slope_3, intercept_3, r_value, p_value, std_err = stats.linregress(log_h_step, log_three_point_error)\n",
    "print(\"slope: %f\" % slope_3)"
   ]
  },
  {
   "cell_type": "code",
   "execution_count": null,
   "metadata": {},
   "outputs": [],
   "source": [
    "# Plotting the resultant slope and adding a fitted line\n",
    "plt.plot(log_h_step, log_three_point_error, 'o', label='Orignal Data')\n",
    "plt.plot(log_h_step, intercept_3 + slope_3*log_h_step, 'r', label='Fitted Line')\n",
    "plt.xlabel('log step size h')\n",
    "plt.ylabel('log three point error')\n",
    "plt.legend()\n",
    "plt.show()"
   ]
  },
  {
   "cell_type": "code",
   "execution_count": null,
   "metadata": {},
   "outputs": [],
   "source": [
    "# Calculating the slope for the log_h_step and log_five_point_error\n",
    "slope_5, intercept_5, r_value, p_value, std_err = stats.linregress(log_h_step, log_five_point_error)\n",
    "print(\"slope: %f\" % slope_5)"
   ]
  },
  {
   "cell_type": "code",
   "execution_count": null,
   "metadata": {},
   "outputs": [],
   "source": [
    "# Plotting the resultant slope and adding a fitted line\n",
    "plt.plot(log_h_step, log_five_point_error, 'o', label='Original Data')\n",
    "plt.plot(log_h_step, intercept_5 + slope_5*log_h_step, 'r', label='Fitted Line')\n",
    "plt.xlabel('log step size h')\n",
    "plt.ylabel('log five point error')\n",
    "plt.legend()\n",
    "plt.show()"
   ]
  },
  {
   "cell_type": "markdown",
   "metadata": {},
   "source": [
    "Is the  slope what we expected from the error in both numerical derivatives?"
   ]
  },
  {
   "cell_type": "markdown",
   "metadata": {},
   "source": [
    "Yes the slope for both functions is very close to what we expected in both numercal derivatives. \n",
    "1.99975 - 3 Point Formula | 4.000346 - 5 Point Formula."
   ]
  }
 ],
 "metadata": {
  "kernelspec": {
   "display_name": "Python 3",
   "language": "python",
   "name": "python3"
  },
  "language_info": {
   "codemirror_mode": {
    "name": "ipython",
    "version": 3
   },
   "file_extension": ".py",
   "mimetype": "text/x-python",
   "name": "python",
   "nbconvert_exporter": "python",
   "pygments_lexer": "ipython3",
   "version": "3.7.6"
  }
 },
 "nbformat": 4,
 "nbformat_minor": 2
}
